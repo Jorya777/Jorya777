{
  "nbformat": 4,
  "nbformat_minor": 0,
  "metadata": {
    "colab": {
      "provenance": [],
      "authorship_tag": "ABX9TyPuG+SYzAGRjm+tvvJSlJMw",
      "include_colab_link": true
    },
    "kernelspec": {
      "name": "python3",
      "display_name": "Python 3"
    },
    "language_info": {
      "name": "python"
    }
  },
  "cells": [
    {
      "cell_type": "markdown",
      "metadata": {
        "id": "view-in-github",
        "colab_type": "text"
      },
      "source": [
        "<a href=\"https://colab.research.google.com/github/Jorya777/Jorya777/blob/main/final_assignment_CF_evaluation_dashboard.ipynb\" target=\"_parent\"><img src=\"https://colab.research.google.com/assets/colab-badge.svg\" alt=\"Open In Colab\"/></a>"
      ]
    },
    {
      "cell_type": "code",
      "execution_count": 15,
      "metadata": {
        "colab": {
          "base_uri": "https://localhost:8080/"
        },
        "id": "OyWcaPWe00eg",
        "outputId": "33e9a2fc-5194-4ab6-fef3-650cfd88da4f"
      },
      "outputs": [
        {
          "output_type": "stream",
          "name": "stdout",
          "text": [
            "Requirement already satisfied: streamlit in /usr/local/lib/python3.12/dist-packages (1.50.0)\n",
            "Requirement already satisfied: plotly in /usr/local/lib/python3.12/dist-packages (5.24.1)\n",
            "Requirement already satisfied: pandas in /usr/local/lib/python3.12/dist-packages (2.2.2)\n",
            "Requirement already satisfied: numpy in /usr/local/lib/python3.12/dist-packages (2.0.2)\n",
            "Requirement already satisfied: altair!=5.4.0,!=5.4.1,<6,>=4.0 in /usr/local/lib/python3.12/dist-packages (from streamlit) (5.5.0)\n",
            "Requirement already satisfied: blinker<2,>=1.5.0 in /usr/local/lib/python3.12/dist-packages (from streamlit) (1.9.0)\n",
            "Requirement already satisfied: cachetools<7,>=4.0 in /usr/local/lib/python3.12/dist-packages (from streamlit) (5.5.2)\n",
            "Requirement already satisfied: click<9,>=7.0 in /usr/local/lib/python3.12/dist-packages (from streamlit) (8.3.0)\n",
            "Requirement already satisfied: packaging<26,>=20 in /usr/local/lib/python3.12/dist-packages (from streamlit) (25.0)\n",
            "Requirement already satisfied: pillow<12,>=7.1.0 in /usr/local/lib/python3.12/dist-packages (from streamlit) (11.3.0)\n",
            "Requirement already satisfied: protobuf<7,>=3.20 in /usr/local/lib/python3.12/dist-packages (from streamlit) (5.29.5)\n",
            "Requirement already satisfied: pyarrow>=7.0 in /usr/local/lib/python3.12/dist-packages (from streamlit) (18.1.0)\n",
            "Requirement already satisfied: requests<3,>=2.27 in /usr/local/lib/python3.12/dist-packages (from streamlit) (2.32.4)\n",
            "Requirement already satisfied: tenacity<10,>=8.1.0 in /usr/local/lib/python3.12/dist-packages (from streamlit) (8.5.0)\n",
            "Requirement already satisfied: toml<2,>=0.10.1 in /usr/local/lib/python3.12/dist-packages (from streamlit) (0.10.2)\n",
            "Requirement already satisfied: typing-extensions<5,>=4.4.0 in /usr/local/lib/python3.12/dist-packages (from streamlit) (4.15.0)\n",
            "Requirement already satisfied: watchdog<7,>=2.1.5 in /usr/local/lib/python3.12/dist-packages (from streamlit) (6.0.0)\n",
            "Requirement already satisfied: gitpython!=3.1.19,<4,>=3.0.7 in /usr/local/lib/python3.12/dist-packages (from streamlit) (3.1.45)\n",
            "Requirement already satisfied: pydeck<1,>=0.8.0b4 in /usr/local/lib/python3.12/dist-packages (from streamlit) (0.9.1)\n",
            "Requirement already satisfied: tornado!=6.5.0,<7,>=6.0.3 in /usr/local/lib/python3.12/dist-packages (from streamlit) (6.5.1)\n",
            "Requirement already satisfied: python-dateutil>=2.8.2 in /usr/local/lib/python3.12/dist-packages (from pandas) (2.9.0.post0)\n",
            "Requirement already satisfied: pytz>=2020.1 in /usr/local/lib/python3.12/dist-packages (from pandas) (2025.2)\n",
            "Requirement already satisfied: tzdata>=2022.7 in /usr/local/lib/python3.12/dist-packages (from pandas) (2025.2)\n",
            "Requirement already satisfied: jinja2 in /usr/local/lib/python3.12/dist-packages (from altair!=5.4.0,!=5.4.1,<6,>=4.0->streamlit) (3.1.6)\n",
            "Requirement already satisfied: jsonschema>=3.0 in /usr/local/lib/python3.12/dist-packages (from altair!=5.4.0,!=5.4.1,<6,>=4.0->streamlit) (4.25.1)\n",
            "Requirement already satisfied: narwhals>=1.14.2 in /usr/local/lib/python3.12/dist-packages (from altair!=5.4.0,!=5.4.1,<6,>=4.0->streamlit) (2.9.0)\n",
            "Requirement already satisfied: gitdb<5,>=4.0.1 in /usr/local/lib/python3.12/dist-packages (from gitpython!=3.1.19,<4,>=3.0.7->streamlit) (4.0.12)\n",
            "Requirement already satisfied: six>=1.5 in /usr/local/lib/python3.12/dist-packages (from python-dateutil>=2.8.2->pandas) (1.17.0)\n",
            "Requirement already satisfied: charset_normalizer<4,>=2 in /usr/local/lib/python3.12/dist-packages (from requests<3,>=2.27->streamlit) (3.4.4)\n",
            "Requirement already satisfied: idna<4,>=2.5 in /usr/local/lib/python3.12/dist-packages (from requests<3,>=2.27->streamlit) (3.11)\n",
            "Requirement already satisfied: urllib3<3,>=1.21.1 in /usr/local/lib/python3.12/dist-packages (from requests<3,>=2.27->streamlit) (2.5.0)\n",
            "Requirement already satisfied: certifi>=2017.4.17 in /usr/local/lib/python3.12/dist-packages (from requests<3,>=2.27->streamlit) (2025.10.5)\n",
            "Requirement already satisfied: smmap<6,>=3.0.1 in /usr/local/lib/python3.12/dist-packages (from gitdb<5,>=4.0.1->gitpython!=3.1.19,<4,>=3.0.7->streamlit) (5.0.2)\n",
            "Requirement already satisfied: MarkupSafe>=2.0 in /usr/local/lib/python3.12/dist-packages (from jinja2->altair!=5.4.0,!=5.4.1,<6,>=4.0->streamlit) (3.0.3)\n",
            "Requirement already satisfied: attrs>=22.2.0 in /usr/local/lib/python3.12/dist-packages (from jsonschema>=3.0->altair!=5.4.0,!=5.4.1,<6,>=4.0->streamlit) (25.4.0)\n",
            "Requirement already satisfied: jsonschema-specifications>=2023.03.6 in /usr/local/lib/python3.12/dist-packages (from jsonschema>=3.0->altair!=5.4.0,!=5.4.1,<6,>=4.0->streamlit) (2025.9.1)\n",
            "Requirement already satisfied: referencing>=0.28.4 in /usr/local/lib/python3.12/dist-packages (from jsonschema>=3.0->altair!=5.4.0,!=5.4.1,<6,>=4.0->streamlit) (0.37.0)\n",
            "Requirement already satisfied: rpds-py>=0.7.1 in /usr/local/lib/python3.12/dist-packages (from jsonschema>=3.0->altair!=5.4.0,!=5.4.1,<6,>=4.0->streamlit) (0.27.1)\n"
          ]
        }
      ],
      "source": [
        "!pip install streamlit plotly pandas numpy\n",
        "!wget -q https://github.com/cloudflare/cloudflared/releases/latest/download/cloudflared-linux-amd64.deb\n",
        "!dpkg -i cloudflared-linux-amd64.deb >/dev/null 2>&1 || true\n"
      ]
    },
    {
      "cell_type": "code",
      "source": [
        "from google.colab import drive\n",
        "drive.mount('/content/drive')"
      ],
      "metadata": {
        "colab": {
          "base_uri": "https://localhost:8080/"
        },
        "id": "NhKH_goL1uBP",
        "outputId": "a3cc8a48-0b9f-4c21-e0e2-c8d0a6ad93a9"
      },
      "execution_count": 4,
      "outputs": [
        {
          "output_type": "stream",
          "name": "stdout",
          "text": [
            "Mounted at /content/drive\n"
          ]
        }
      ]
    },
    {
      "cell_type": "code",
      "source": [
        "%%writefile /content/drive/MyDrive/app.py\n",
        "import streamlit as st\n",
        "import pandas as pd\n",
        "import plotly.express as px\n",
        "import numpy as np\n",
        "\n",
        "# ---------------------------------------------------\n",
        "# 📘 基础配置\n",
        "# ---------------------------------------------------\n",
        "st.set_page_config(page_title=\"UNSDCF Evaluation Dashboard\", layout=\"wide\")\n",
        "\n",
        "st.title(\"🌍 United Nations Sustainable Development Cooperation Framework Evaluation Dashboard\")\n",
        "st.markdown(\"\"\"\n",
        "This dashboard visualizes **evaluation expenditures** and **UNCT performance**\n",
        "under the OECD-DAC evaluation criteria across selected countries.\n",
        "\"\"\")\n",
        "\n",
        "# ---------------------------------------------------\n",
        "# 📊 加载真实数据\n",
        "# ---------------------------------------------------\n",
        "file_path = \"/content/drive/MyDrive/2021-2023 evaluation expenditures analysis .xlsx\"\n",
        "\n",
        "df_spend = pd.read_excel(file_path)\n",
        "df_spend.rename(columns={\n",
        "    \"Countries\": \"Country\",\n",
        "    \"Evaluation expenditure($)\": \"Evaluation Spending (MUSD)\",\n",
        "    \"Program Expenditure\": \"Total Spending (MUSD)\",\n",
        "    \"The proportion of Evaluation Expenditure to Program Expenditure\": \"Eval Ratio (%)\"\n",
        "}, inplace=True)\n",
        "\n",
        "# 清理潜在空格和异常值\n",
        "df_spend[\"Country\"] = df_spend[\"Country\"].astype(str).str.strip()\n",
        "df_spend[\"Eval Ratio (%)\"] = pd.to_numeric(df_spend[\"Eval Ratio (%)\"], errors=\"coerce\")\n",
        "df_spend.dropna(subset=[\"Eval Ratio (%)\"], inplace=True)\n",
        "\n",
        "countries = df_spend[\"Country\"].unique().tolist()\n",
        "\n",
        "# ---------------------------------------------------\n",
        "# 🌍 全球填色地图\n",
        "# ---------------------------------------------------\n",
        "st.subheader(\"🌍 Global Distribution of Evaluation Expenditures (2021–2023)\")\n",
        "\n",
        "fig_map = px.choropleth(\n",
        "    df_spend,\n",
        "    locations=\"Country\",\n",
        "    locationmode=\"country names\",\n",
        "    color=\"Eval Ratio (%)\",\n",
        "    hover_name=\"Country\",\n",
        "    hover_data={\n",
        "        \"Evaluation Spending (MUSD)\": \":,.2f\",\n",
        "        \"Total Spending (MUSD)\": \":,.2f\",\n",
        "        \"Eval Ratio (%)\": \":.2f\"\n",
        "    },\n",
        "    color_continuous_scale=\"Blues\",\n",
        "    title=\"Evaluation Spending Ratio by Country\",\n",
        "    projection=\"natural earth\"\n",
        ")\n",
        "fig_map.update_layout(geo=dict(showframe=False, showcoastlines=True))\n",
        "st.plotly_chart(fig_map, use_container_width=True)\n",
        "\n",
        "# ---------------------------------------------------\n",
        "# 💰 散点图：Evaluation vs Programme Spending\n",
        "# ---------------------------------------------------\n",
        "st.subheader(\"💰 Evaluation vs Programme Expenditure\")\n",
        "\n",
        "fig_scatter = px.scatter(\n",
        "    df_spend,\n",
        "    x=\"Total Spending (MUSD)\",\n",
        "    y=\"Eval Ratio (%)\",\n",
        "    size=\"Evaluation Spending (MUSD)\",\n",
        "    color=\"Region\" if \"Region\" in df_spend.columns else \"Country\",\n",
        "    hover_name=\"Country\",\n",
        "    title=\"Evaluation Ratio vs Programme Expenditure\",\n",
        "    size_max=40\n",
        ")\n",
        "st.plotly_chart(fig_scatter, use_container_width=True)\n",
        "\n",
        "# ---------------------------------------------------\n",
        "# 📈 雷达图（示例数据）\n",
        "# ---------------------------------------------------\n",
        "st.subheader(\"📈 UNCT Performance under the UNSDCF (by OECD-DAC Criteria)\")\n",
        "\n",
        "CRITERIA = ['relevance','coherence','effectiveness','efficiency','orientation towards impact','sustainability']\n",
        "# 用随机数模拟各国评分（如果你之后有真实打分表可以替换这里）\n",
        "np.random.seed(42)\n",
        "df_scores = pd.DataFrame({\n",
        "    \"Country\": np.repeat(countries, len(CRITERIA)),\n",
        "    \"Criterion\": CRITERIA * len(countries),\n",
        "    \"Score\": np.random.randint(-3, 5, len(CRITERIA)*len(countries))\n",
        "})\n",
        "\n",
        "# Sidebar\n",
        "country = st.sidebar.selectbox(\"Select Country\", countries)\n",
        "radar_df = df_scores[df_scores[\"Country\"]==country]\n",
        "\n",
        "fig_radar = px.line_polar(\n",
        "    radar_df, r=\"Score\", theta=\"Criterion\", line_close=True,\n",
        "    title=f\"{country} – OECD-DAC Evaluation Balance\",\n",
        "    range_r=[-5,5]\n",
        ")\n",
        "st.plotly_chart(fig_radar, use_container_width=True)\n",
        "\n",
        "st.markdown(\n",
        "    \"<p style='font-size:14px; color:gray;'><em>Note: A common UN benchmark is to allocate approximately 1% of programme resources to evaluation activities.</em></p>\",\n",
        "    unsafe_allow_html=True\n",
        ")\n",
        "\n",
        "# ---------------------------------------------------\n",
        "# 📊 详细表格\n",
        "# ---------------------------------------------------\n",
        "st.subheader(\"📋 Detailed Evaluation Data\")\n",
        "st.dataframe(df_spend)\n",
        "\n",
        "st.markdown(\"---\")\n",
        "st.markdown(\"© United Nations DCO – Data visualization for learning purposes \")\n"
      ],
      "metadata": {
        "colab": {
          "base_uri": "https://localhost:8080/"
        },
        "id": "tJpVWdxT2-KK",
        "outputId": "a5ecd9e3-de41-47d8-c75d-48061ea9cd68"
      },
      "execution_count": 10,
      "outputs": [
        {
          "output_type": "stream",
          "name": "stdout",
          "text": [
            "Overwriting /content/drive/MyDrive/app.py\n"
          ]
        }
      ]
    },
    {
      "cell_type": "code",
      "source": [
        "import pandas as pd\n",
        "\n",
        "# 1️⃣ 读取 Excel 文件\n",
        "df_spend = pd.read_excel(\"/content/drive/MyDrive/2021-2023 evaluation expenditures analysis .xlsx\")\n",
        "\n",
        "# 2️⃣ 看看列名\n",
        "print(df_spend.columns)\n",
        "\n",
        "# 3️⃣ 看前几行数据\n",
        "print(df_spend.head())\n"
      ],
      "metadata": {
        "colab": {
          "base_uri": "https://localhost:8080/"
        },
        "id": "NgbSdv8T4scY",
        "outputId": "a88fd422-be53-42e6-a149-c3bce3177776"
      },
      "execution_count": 14,
      "outputs": [
        {
          "output_type": "stream",
          "name": "stdout",
          "text": [
            "Index(['Countries', 'Region', 'Evaluation year ', ' Evaluation expenditure($)',\n",
            "       'Program  Expenditure',\n",
            "       'The proportion of Evaluation Expenditure to Program Expenditure'],\n",
            "      dtype='object')\n",
            "             Countries  Region  Evaluation year    Evaluation expenditure($)  \\\n",
            "0                Gabon  Africa              2021                       38500   \n",
            "1               Chile      LAC              2021                       23610   \n",
            "2  Republic of Moldova     ECA              2021                       61250   \n",
            "3               Benin   Africa              2022                       87000   \n",
            "4           Cape Verde  Africa              2021                       72350   \n",
            "\n",
            "   Program  Expenditure  \\\n",
            "0              18233910   \n",
            "1              31219623   \n",
            "2              40731667   \n",
            "3              46744773   \n",
            "4              70865394   \n",
            "\n",
            "   The proportion of Evaluation Expenditure to Program Expenditure  \n",
            "0                                           0.002111                \n",
            "1                                           0.000756                \n",
            "2                                           0.001504                \n",
            "3                                           0.001861                \n",
            "4                                           0.001021                \n"
          ]
        }
      ]
    },
    {
      "cell_type": "code",
      "source": [
        "print(df_spend.columns)\n",
        "print(df_spend.head())\n"
      ],
      "metadata": {
        "colab": {
          "base_uri": "https://localhost:8080/",
          "height": 158
        },
        "id": "sVqKyqh04W_u",
        "outputId": "cddb1492-6a7e-426f-e386-798dbc7a6d35"
      },
      "execution_count": 13,
      "outputs": [
        {
          "output_type": "error",
          "ename": "NameError",
          "evalue": "name 'df_spend' is not defined",
          "traceback": [
            "\u001b[0;31m---------------------------------------------------------------------------\u001b[0m",
            "\u001b[0;31mNameError\u001b[0m                                 Traceback (most recent call last)",
            "\u001b[0;32m/tmp/ipython-input-3329805230.py\u001b[0m in \u001b[0;36m<cell line: 0>\u001b[0;34m()\u001b[0m\n\u001b[0;32m----> 1\u001b[0;31m \u001b[0mprint\u001b[0m\u001b[0;34m(\u001b[0m\u001b[0mdf_spend\u001b[0m\u001b[0;34m.\u001b[0m\u001b[0mcolumns\u001b[0m\u001b[0;34m)\u001b[0m\u001b[0;34m\u001b[0m\u001b[0;34m\u001b[0m\u001b[0m\n\u001b[0m\u001b[1;32m      2\u001b[0m \u001b[0mprint\u001b[0m\u001b[0;34m(\u001b[0m\u001b[0mdf_spend\u001b[0m\u001b[0;34m.\u001b[0m\u001b[0mhead\u001b[0m\u001b[0;34m(\u001b[0m\u001b[0;34m)\u001b[0m\u001b[0;34m)\u001b[0m\u001b[0;34m\u001b[0m\u001b[0;34m\u001b[0m\u001b[0m\n",
            "\u001b[0;31mNameError\u001b[0m: name 'df_spend' is not defined"
          ]
        }
      ]
    },
    {
      "cell_type": "code",
      "source": [
        "import subprocess, time, re, sys\n",
        "\n",
        "PORT = \"8501\"\n",
        "# 启动 Streamlit 后台服务\n",
        "streamlit = subprocess.Popen(\n",
        "    [\"streamlit\", \"run\", \"app.py\", \"--server.port\", PORT, \"--server.headless\", \"true\"],\n",
        "    stdout=subprocess.PIPE, stderr=subprocess.STDOUT, text=True\n",
        ")\n",
        "time.sleep(2)\n",
        "\n",
        "# 启动 Cloudflare Tunnel\n",
        "tunnel = subprocess.Popen(\n",
        "    [\"cloudflared\", \"tunnel\", \"--url\", f\"http://localhost:{PORT}\", \"--no-autoupdate\"],\n",
        "    stdout=subprocess.PIPE, stderr=subprocess.STDOUT, text=True\n",
        ")\n",
        "\n",
        "print(\"Starting Cloudflare Tunnel … (keep this cell running)\")\n",
        "for line in tunnel.stdout:\n",
        "    sys.stdout.write(line)\n",
        "    sys.stdout.flush()\n",
        "    m = re.search(r\"https://[a-z0-9-]+\\.trycloudflare\\.com\", line)\n",
        "    if m:\n",
        "        print(\"\\n🚀 Streamlit app URL:\", m.group(0))\n",
        "        print(\"No password required. Keep this cell running while you use the app.\")\n",
        "        break\n"
      ],
      "metadata": {
        "colab": {
          "base_uri": "https://localhost:8080/"
        },
        "id": "cuHi0VMv1atS",
        "outputId": "307a29d2-c99d-44b5-e7cc-ac01b201d028"
      },
      "execution_count": 11,
      "outputs": [
        {
          "output_type": "stream",
          "name": "stdout",
          "text": [
            "Starting Cloudflare Tunnel … (keep this cell running)\n",
            "2025-10-23T20:58:48Z INF Thank you for trying Cloudflare Tunnel. Doing so, without a Cloudflare account, is a quick way to experiment and try it out. However, be aware that these account-less Tunnels have no uptime guarantee, are subject to the Cloudflare Online Services Terms of Use (https://www.cloudflare.com/website-terms/), and Cloudflare reserves the right to investigate your use of Tunnels for violations of such terms. If you intend to use Tunnels in production you should use a pre-created named tunnel by following: https://developers.cloudflare.com/cloudflare-one/connections/connect-apps\n",
            "2025-10-23T20:58:48Z INF Requesting new quick Tunnel on trycloudflare.com...\n",
            "2025-10-23T20:58:52Z INF +--------------------------------------------------------------------------------------------+\n",
            "2025-10-23T20:58:52Z INF |  Your quick Tunnel has been created! Visit it at (it may take some time to be reachable):  |\n",
            "2025-10-23T20:58:52Z INF |  https://stop-flags-clinic-personalized.trycloudflare.com                                  |\n",
            "\n",
            "🚀 Streamlit app URL: https://stop-flags-clinic-personalized.trycloudflare.com\n",
            "No password required. Keep this cell running while you use the app.\n"
          ]
        }
      ]
    }
  ]
}